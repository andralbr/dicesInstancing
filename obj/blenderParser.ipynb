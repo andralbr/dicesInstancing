{
 "cells": [
  {
   "cell_type": "code",
   "execution_count": 1,
   "metadata": {},
   "outputs": [],
   "source": [
    "import numpy as np\n",
    "import re"
   ]
  },
  {
   "cell_type": "code",
   "execution_count": 16,
   "metadata": {},
   "outputs": [],
   "source": [
    "vertices = []"
   ]
  },
  {
   "cell_type": "code",
   "execution_count": 24,
   "metadata": {},
   "outputs": [],
   "source": [
    "vertices = []\n",
    "texCoords = []\n",
    "normals = []\n",
    "triangles = []\n",
    "\n",
    "with open(\"rock.obj\", \"r\") as readFile:\n",
    "    for line in readFile:\n",
    "        if ( line.startswith('v ')):\n",
    "            numbers = re.findall(\"[-+]?[.]?[\\d]+(?:,\\d\\d\\d)*[\\.]?\\d*(?:[eE][-+]?\\d+)?\", line)\n",
    "            vertices.append( float(numbers[0]) )\n",
    "            vertices.append( float(numbers[1]) )\n",
    "            vertices.append( float(numbers[2]) )\n",
    "            \n",
    "        if ( line.startswith('vn ')):\n",
    "            numbers = re.findall(\"[-+]?[.]?[\\d]+(?:,\\d\\d\\d)*[\\.]?\\d*(?:[eE][-+]?\\d+)?\", line)\n",
    "            normals.append( float(numbers[0]) )\n",
    "            normals.append( float(numbers[1]) )\n",
    "            normals.append( float(numbers[2]) )\n",
    "            \n",
    "        if ( line.startswith('vt ')):\n",
    "            numbers = re.findall(\"[-+]?[.]?[\\d]+(?:,\\d\\d\\d)*[\\.]?\\d*(?:[eE][-+]?\\d+)?\", line)\n",
    "            texCoords.append( float(numbers[0]) )\n",
    "            texCoords.append( float(numbers[1]) )\n",
    "            \n",
    "            \n",
    "        if ( line.startswith('f ')):\n",
    "            numbers = re.findall(\"[-+]?[.]?[\\d]+(?:,\\d\\d\\d)*[\\.]?\\d*(?:[eE][-+]?\\d+)?\", line)\n",
    "            for cc in range(9):\n",
    "                triangles.append( int(numbers[cc]) )\n",
    "            \n"
   ]
  },
  {
   "cell_type": "code",
   "execution_count": 27,
   "metadata": {},
   "outputs": [],
   "source": [
    "\n"
   ]
  },
  {
   "cell_type": "code",
   "execution_count": 25,
   "metadata": {},
   "outputs": [],
   "source": [
    "triangles = np.array(triangles).reshape(-1,3)\n",
    "vertices = np.array(vertices).reshape(-1,3)\n",
    "texCoords = np.array(texCoords).reshape(-1,2)\n",
    "normals = np.array(normals).reshape(-1,3)"
   ]
  },
  {
   "cell_type": "code",
   "execution_count": 31,
   "metadata": {},
   "outputs": [],
   "source": [
    "OpenGLVertex = np.zeros((len(triangles), 8))\n",
    "\n",
    "for cc in range( len(triangles) ):\n",
    "    i_v = triangles[cc, 0] - 1\n",
    "    i_t = triangles[cc, 1] - 1\n",
    "    i_n = triangles[cc, 2] - 1\n",
    "    \n",
    "    OpenGLVertex[cc, 0] = vertices[i_v, 0]\n",
    "    OpenGLVertex[cc, 1] = vertices[i_v, 1]\n",
    "    OpenGLVertex[cc, 2] = vertices[i_v, 2]\n",
    "    \n",
    "    OpenGLVertex[cc, 3] = normals[i_n, 0]\n",
    "    OpenGLVertex[cc, 4] = normals[i_n, 1]\n",
    "    OpenGLVertex[cc, 5] = normals[i_n, 2]\n",
    "    \n",
    "    OpenGLVertex[cc, 6] = texCoords[i_t, 0]\n",
    "    OpenGLVertex[cc, 7] = texCoords[i_t, 1]\n",
    "    \n",
    "    \n",
    "    \n",
    "    "
   ]
  },
  {
   "cell_type": "code",
   "execution_count": 39,
   "metadata": {},
   "outputs": [],
   "source": [
    "with open(\"rockParticle.cpp\", \"w\") as writeFile:\n",
    "    writeFile.write(\"// Rock particle\\n\\n\\n\")\n",
    "    \n",
    "    # \n",
    "    writeFile.write(\"std::vector<float> rockParticle = {\\n\")\n",
    "    \n",
    "    # data\n",
    "    for cc in range( int(len(OpenGLVertex)) - 1 ):\n",
    "        writeFile.write(\"\\t\")\n",
    "        for cx in range(8):\n",
    "            writeFile.write( str(OpenGLVertex[cc, cx]) + \", \")\n",
    "        writeFile.write(\"\\n\")\n",
    "       \n",
    "    # last line of data\n",
    "    writeFile.write(\"\\t\")\n",
    "    for cx in range(7):\n",
    "        writeFile.write( str(OpenGLVertex[ int(len(vertices)), cx]) + \", \")\n",
    "\n",
    "    writeFile.write( str(OpenGLVertex[ int(len(vertices)), 7]) + \"   }\" )\n",
    "    "
   ]
  },
  {
   "cell_type": "code",
   "execution_count": 34,
   "metadata": {},
   "outputs": [
    {
     "data": {
      "text/plain": [
       "576"
      ]
     },
     "execution_count": 34,
     "metadata": {},
     "output_type": "execute_result"
    }
   ],
   "source": [
    "len(triangles)"
   ]
  },
  {
   "cell_type": "code",
   "execution_count": 33,
   "metadata": {},
   "outputs": [
    {
     "data": {
      "text/plain": [
       "164"
      ]
     },
     "execution_count": 33,
     "metadata": {},
     "output_type": "execute_result"
    }
   ],
   "source": [
    "267-103"
   ]
  },
  {
   "cell_type": "code",
   "execution_count": 34,
   "metadata": {},
   "outputs": [
    {
     "data": {
      "text/plain": [
       "97"
      ]
     },
     "execution_count": 34,
     "metadata": {},
     "output_type": "execute_result"
    }
   ],
   "source": [
    "365-268"
   ]
  },
  {
   "cell_type": "code",
   "execution_count": 35,
   "metadata": {},
   "outputs": [
    {
     "data": {
      "text/plain": [
       "191"
      ]
     },
     "execution_count": 35,
     "metadata": {},
     "output_type": "execute_result"
    }
   ],
   "source": [
    "559-368"
   ]
  },
  {
   "cell_type": "code",
   "execution_count": null,
   "metadata": {},
   "outputs": [],
   "source": []
  }
 ],
 "metadata": {
  "kernelspec": {
   "display_name": "Python 3",
   "language": "python",
   "name": "python3"
  },
  "language_info": {
   "codemirror_mode": {
    "name": "ipython",
    "version": 3
   },
   "file_extension": ".py",
   "mimetype": "text/x-python",
   "name": "python",
   "nbconvert_exporter": "python",
   "pygments_lexer": "ipython3",
   "version": "3.7.1"
  }
 },
 "nbformat": 4,
 "nbformat_minor": 2
}
